{
 "cells": [
  {
   "cell_type": "code",
   "execution_count": 1,
   "metadata": {},
   "outputs": [],
   "source": [
    "import cv2\n",
    "# import pytesseract\n",
    "# from PIL import Image\n",
    "import numpy as np\n",
    "import matplotlib.pyplot as plt\n",
    "# pytesseract.pytesseract.tesseract_cmd = 'C:/Program Files/Tesseract-OCR/tesseract.exe'"
   ]
  },
  {
   "cell_type": "code",
   "execution_count": 2,
   "metadata": {},
   "outputs": [],
   "source": [
    "def find_number(img):\n",
    "    \n",
    "    # detecting and classifying number in the boxes based on number of contours detected\n",
    "    kernel = np.ones((1, 1), np.uint8)\n",
    "    img = cv2.erode(img, kernel, iterations=1)\n",
    "    \n",
    "    _, contours, hierarchy = cv2.findContours(img, cv2.RETR_CCOMP, cv2.CHAIN_APPROX_NONE)\n",
    "    \n",
    "    if len(contours) == 3:\n",
    "        return 0\n",
    "    elif len(contours) == 2:\n",
    "        return 1\n",
    "\n",
    "def find_building_matrix(path):\n",
    "    \n",
    "    # Read the image and convert to gray and binary for later use\n",
    "    image = cv2.imread(path)  \n",
    "    gray = cv2.cvtColor(image,cv2.COLOR_BGR2GRAY) \n",
    "    bw = cv2.threshold(gray, 0, 255, cv2.THRESH_BINARY + cv2.THRESH_OTSU)[1]\n",
    "    plt.imshow(bw, cmap = 'gray')\n",
    "    plt.show()\n",
    "    \n",
    "    result =  np.zeros_like(gray)\n",
    "    thresh = cv2.threshold(gray, 0, 255, cv2.THRESH_BINARY_INV + cv2.THRESH_OTSU)[1]\n",
    "    #plt.imshow(thresh, cmap = 'gray')\n",
    "    #plt.show()\n",
    "    \n",
    "    # Detecting horizontal lines\n",
    "    horizontal_kernel = cv2.getStructuringElement(cv2.MORPH_RECT, (40,1))\n",
    "    remove_horizontal = cv2.morphologyEx(thresh, cv2.MORPH_OPEN, horizontal_kernel, iterations=2)\n",
    "    plt.imshow(remove_horizontal, cmap = 'gray')\n",
    "    plt.show()\n",
    "    \n",
    "    cnts = cv2.findContours(remove_horizontal, cv2.RETR_EXTERNAL, cv2.CHAIN_APPROX_SIMPLE)\n",
    "    cnts = cnts[0] if len(cnts) == 2 else cnts[1]\n",
    "    for c in cnts:\n",
    "        cv2.drawContours(result, [c], -1, (255,255,255), 5)\n",
    "    \n",
    "    # Detecting vertical lines\n",
    "    vertical_kernel = cv2.getStructuringElement(cv2.MORPH_RECT, (1,40))\n",
    "    remove_vertical = cv2.morphologyEx(thresh, cv2.MORPH_OPEN, vertical_kernel, iterations=2)\n",
    "    plt.imshow(remove_vertical, cmap = 'gray')\n",
    "    plt.show()\n",
    "    cnts = cv2.findContours(remove_vertical, cv2.RETR_EXTERNAL, cv2.CHAIN_APPROX_SIMPLE)\n",
    "    cnts = cnts[0] if len(cnts) == 2 else cnts[1]\n",
    "    for c in cnts:\n",
    "        cv2.drawContours(result, [c], -1, (255,255,255), 5)\n",
    "    \n",
    "    # final_image after detecting vertical and horizontal lines\n",
    "    plt.imshow(result, cmap = 'gray')\n",
    "    plt.show() \n",
    "    \n",
    "    # detecting square boxes of the grid obtained from the above image\n",
    "    _, contours, hierarchy = cv2.findContours(result, cv2.RETR_TREE, cv2.CHAIN_APPROX_SIMPLE)\n",
    "    \n",
    "    x_dim = []   # for storing unique x coordinates to find total number of flats on a floor\n",
    "    y_dim = []   # for storing unique y coordinates to find total number of floors\n",
    "    results_dict = {}   # for storing all the detections of boxes and the number inside them\n",
    "    \n",
    "    for i,cnt in enumerate(contours):\n",
    "        \n",
    "        blank = np.zeros_like(gray)        \n",
    "        if hierarchy[0][i][3]==0:\n",
    "            \n",
    "            x,y,w,h = cv2.boundingRect(cnt)\n",
    "            if x not in x_dim:\n",
    "                x_dim.append(x)\n",
    "            if y not in y_dim:\n",
    "                y_dim.append(y)\n",
    "            \n",
    "            cv2.rectangle(blank, (x, y), (x+w, y+h), (255), -1)\n",
    "            \n",
    "            blank = cv2.bitwise_and(blank,bw)\n",
    "            ROI = blank[y:y+h, x:x+w]   # separating region of interests of individual grids & detecting number in it\n",
    "            \n",
    "            detection = find_number(ROI)   # find number inside the region of interest\n",
    "            results_dict[(x,y)] = detection  # storing the detected number with its position in image \n",
    "   \n",
    "\n",
    "    # Creating the building map matrix based on the location of number found \n",
    "\n",
    "    x_dim = sorted(x_dim)\n",
    "    y_dim = sorted(y_dim)\n",
    "    \n",
    "    final_array = []\n",
    "    \n",
    "    \n",
    "    for i in y_dim:\n",
    "        temp = []\n",
    "        for j in x_dim:\n",
    "            temp.append(results_dict[(j,i)])\n",
    "        final_array.append(temp)\n",
    "        \n",
    "    return np.array(final_array)"
   ]
  },
  {
   "cell_type": "code",
   "execution_count": 3,
   "metadata": {},
   "outputs": [],
   "source": [
    "def process_row(orig_row, sum_row):\n",
    "    # function to calculate cost of a floor and individual flats by adding up the top floor costs\n",
    "        \n",
    "    n_flats = len(orig_row)\n",
    "    index_of_1 = [i for i in range(len(orig_row)) if orig_row[i]>0]\n",
    "\n",
    "    ind0 = index_of_1[0]\n",
    "    while ind0>0:\n",
    "        sum_row[ind0-1] = sum_row[ind0]+1\n",
    "        ind0 -= 1\n",
    "\n",
    "    ind_last = index_of_1[-1]\n",
    "    while ind_last < n_flats-1:\n",
    "        sum_row[ind_last+1] = sum_row[ind_last]+1\n",
    "        ind_last += 1\n",
    "\n",
    "    for i in range(0, len(index_of_1)-1):\n",
    "        start = index_of_1[i]\n",
    "        end = index_of_1[i+1]\n",
    "\n",
    "        while start < end-1:                \n",
    "            sum_row[start+1] = sum_row[start]+1\n",
    "            start += 1\n",
    "\n",
    "        while sum_row[end] + 1< sum_row[end-1]:\n",
    "            sum_row[end-1] = sum_row[end] + 1\n",
    "            end -= 1\n",
    "\n",
    "    return (sum_row)     \n",
    "\n",
    "def calculate_cost_array(array_):\n",
    "    # A function to find the cost matrix of the building based on its map of floor and flat\n",
    "    dp = np.zeros_like(array_)\n",
    "    flats = len(array_[0])\n",
    "    floors = len(array_)            \n",
    "        \n",
    "    for i in range(1, floors):\n",
    "        \n",
    "        dp[i] = dp[i-1]*array_[i] + array_[i]  \n",
    "        dp[i] = process_row(array_[i], dp[i])\n",
    "    \n",
    "    return dp\n",
    "\n",
    "def min_traversal_value(user, cost_array):\n",
    "    total_floors = len(list(cost_array))\n",
    "    user_floor = total_floors - 1 - user[0]\n",
    "    user_flat = user[1]\n",
    "    return cost_array[user_floor, user_flat]\n",
    "    "
   ]
  },
  {
   "cell_type": "code",
   "execution_count": 4,
   "metadata": {},
   "outputs": [],
   "source": [
    "def pipeline(image_path, user_location):\n",
    "    # get building map of floor and flats based on number detection and localization\n",
    "    building_map_array = find_building_matrix(image_path)\n",
    "    print('building map')\n",
    "    print(building_map_array)\n",
    "    # get cost of traveling from each flat of each floor to top floor\n",
    "    cost_matrix = calculate_cost_array(building_map_array)\n",
    "    print('cost matrix')\n",
    "    print(cost_matrix)\n",
    "    # based on user location  return the min cost of trversal\n",
    "    min_flat = min_traversal_value(user_location, cost_matrix)\n",
    "    return (min_flat)"
   ]
  },
  {
   "cell_type": "code",
   "execution_count": 5,
   "metadata": {},
   "outputs": [
    {
     "data": {
      "image/png": "[encoded data removed]",
      "text/plain": [
       "<matplotlib.figure.Figure at 0x27e9a377048>"
      ]
     },
     "metadata": {},
     "output_type": "display_data"
    },
    {
     "data": {
      "image/png": "[encoded data removed]",
      "text/plain": [
       "<matplotlib.figure.Figure at 0x27e9a3d2390>"
      ]
     },
     "metadata": {},
     "output_type": "display_data"
    },
    {
     "data": {
      "image/png": "[encoded data removed]",
      "text/plain": [
       "<matplotlib.figure.Figure at 0x27e9c4b3a90>"
      ]
     },
     "metadata": {},
     "output_type": "display_data"
    },
    {
     "data": {
      "image/png": "[encoded data removed]",
      "text/plain": [
       "<matplotlib.figure.Figure at 0x27e9c40e0b8>"
      ]
     },
     "metadata": {},
     "output_type": "display_data"
    },
    {
     "name": "stdout",
     "output_type": "stream",
     "text": [
      "building map\n",
      "[[0 0 0 0 0 0]\n",
      " [1 0 1 0 0 1]\n",
      " [0 1 0 0 1 0]\n",
      " [1 1 0 1 0 0]\n",
      " [0 0 1 0 0 0]]\n",
      "cost matrix\n",
      "[[0 0 0 0 0 0]\n",
      " [1 2 1 2 2 1]\n",
      " [4 3 4 4 3 4]\n",
      " [5 4 5 5 6 7]\n",
      " [8 7 6 7 8 9]]\n"
     ]
    },
    {
     "data": {
      "text/plain": [
       "6"
      ]
     },
     "execution_count": 5,
     "metadata": {},
     "output_type": "execute_result"
    }
   ],
   "source": [
    "pipeline('test.png',[0,2])"
   ]
  },
  {
   "cell_type": "code",
   "execution_count": null,
   "metadata": {},
   "outputs": [],
   "source": []
  },
  {
   "cell_type": "code",
   "execution_count": null,
   "metadata": {},
   "outputs": [],
   "source": []
  }
 ],
 "metadata": {
  "kernelspec": {
   "display_name": "Python [conda env:carnd-term1]",
   "language": "python",
   "name": "conda-env-carnd-term1-py"
  },
  "language_info": {
   "codemirror_mode": {
    "name": "ipython",
    "version": 3
   },
   "file_extension": ".py",
   "mimetype": "text/x-python",
   "name": "python",
   "nbconvert_exporter": "python",
   "pygments_lexer": "ipython3",
   "version": "3.5.2"
  },
  "widgets": {
   "state": {},
   "version": "1.1.2"
  }
 },
 "nbformat": 4,
 "nbformat_minor": 2
}
